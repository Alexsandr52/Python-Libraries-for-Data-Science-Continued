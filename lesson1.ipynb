{
 "cells": [
  {
   "cell_type": "markdown",
   "metadata": {},
   "source": [
    "Приведите по 2 примера, когда лучше максимизировать Precision, а когда Recall."
   ]
  },
  {
   "cell_type": "markdown",
   "metadata": {},
   "source": [
    "1. При выборо сотрудников для проекта стоит максимезировать Precision.\n",
    "2. Если кредитная политика банка направлена на большую выручку, стоит максимизировать Recall.\n",
    "3. Если кредитная политика банка направлена на репутацию, стоит максимизировать Precision.\n",
    "4. При вопросе о том ставить прививку от бешенства или нет при укусе (любого животного) стоит максимизации Recall."
   ]
  },
  {
   "cell_type": "markdown",
   "metadata": {},
   "source": [
    "Почему мы используем F-меру, почему, например, нельзя просто взять среднее от Precision и Recall?"
   ]
  },
  {
   "cell_type": "markdown",
   "metadata": {},
   "source": [
    "1. F-мера позволяет увеличивать/уменьшать влияние Precision и Recall\n",
    "2. F-мера позволяет оценить в комплексе как Precision, так и Recall."
   ]
  }
 ],
 "metadata": {
  "language_info": {
   "name": "python"
  },
  "orig_nbformat": 4
 },
 "nbformat": 4,
 "nbformat_minor": 2
}
